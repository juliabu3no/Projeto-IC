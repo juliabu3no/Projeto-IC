version https://git-lfs.github.com/spec/v1
oid sha256:d74910578ddeeb93242390c0c55c8a02aa21c2ada591a81e5a9becdf7884a107
size 1497161
