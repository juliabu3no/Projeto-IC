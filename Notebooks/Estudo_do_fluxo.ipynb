version https://git-lfs.github.com/spec/v1
oid sha256:444196580d429aa8984b060ced6ff0084c6216cefe41eb0e8c7d61d7aaec4d32
size 67153900
