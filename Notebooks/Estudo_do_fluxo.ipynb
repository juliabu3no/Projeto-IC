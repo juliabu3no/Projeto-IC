version https://git-lfs.github.com/spec/v1
oid sha256:a1f57479fe23aa151bfd2d69f6d99db4dadb6a601f9a82bb97922e0a6d49e43d
size 8674950
