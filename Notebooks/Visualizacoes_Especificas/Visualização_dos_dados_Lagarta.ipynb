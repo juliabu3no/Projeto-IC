version https://git-lfs.github.com/spec/v1
oid sha256:e8e473c0f91a45eeed47280d36af9ffb8f8b8a7aec0452468b2f6df56866e310
size 1231690
