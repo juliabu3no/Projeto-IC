version https://git-lfs.github.com/spec/v1
oid sha256:5fb5b5bf06572667a6076a7a99e3f598c370181edf5b994e6d03d0464aea4799
size 1055273
